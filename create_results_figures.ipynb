{
 "cells": [
  {
   "cell_type": "code",
   "execution_count": null,
   "metadata": {
    "pycharm": {
     "name": "#%%\n"
    }
   },
   "outputs": [],
   "source": [
    "import matplotlib.pyplot as plt\n",
    "from matplotlib import rcParams\n",
    "rcParams['savefig.transparent'] = False\n",
    "rcParams['savefig.facecolor'] = 'white'\n",
    "%matplotlib inline\n",
    "import pandas as pd\n",
    "import numpy as np\n",
    "import seaborn as sns\n",
    "from data import load_data, load_rage"
   ]
  },
  {
   "cell_type": "code",
   "execution_count": null,
   "metadata": {
    "pycharm": {
     "name": "#%%\n"
    }
   },
   "outputs": [],
   "source": [
    "import matplotlib\n",
    "matplotlib.rcParams['pdf.fonttype'] = 42\n",
    "matplotlib.rcParams['ps.fonttype'] = 42\n",
    "import matplotlib.pyplot as plt\n",
    "plt.rcParams[\"font.family\"] = \"arial\"\n",
    "sns.set_context(\"paper\")\n"
   ]
  },
  {
   "cell_type": "code",
   "execution_count": null,
   "metadata": {
    "pycharm": {
     "name": "#%%\n"
    }
   },
   "outputs": [],
   "source": [
    "df = load_data(rage=False)\n",
    "\n",
    "def print_opts(d):\n",
    "    print('\\npc name : {}'.format(' '.join(sorted(d['device_name'].unique()))))\n",
    "    print('model_name : {}'.format(' '.join(sorted(d['model_name'].unique()))))\n",
    "    print('simulator : {}'.format(' '.join(sorted(d['simulator'].unique()))))\n",
    "    print('gpu_name : {}'.format(' '.join(sorted(d['gpu_name'].unique()))))\n",
    "    print('sim_card : {}'.format(' '.join(sorted(d['sim_card'].unique()))))\n",
    "    \n",
    "df_rage = load_data(rage=True)\n",
    "df_rage.head()"
   ]
  },
  {
   "cell_type": "code",
   "execution_count": null,
   "metadata": {
    "pycharm": {
     "name": "#%%\n"
    },
    "scrolled": true
   },
   "outputs": [],
   "source": [
    "\n",
    "model_names = ['Michaelis-Menten', 'Schlögl','Kinase Cascade',  'EARM 1.0']\n",
    "print_opts(df)\n",
    "gpu_only = ['cuda', 'opencl']\n",
    "gpu_only = df.loc[df.simulator.isin(gpu_only)].copy()\n",
    "print_opts(gpu_only)"
   ]
  },
  {
   "cell_type": "code",
   "execution_count": null,
   "metadata": {
    "pycharm": {
     "name": "#%%\n"
    }
   },
   "outputs": [],
   "source": [
    "main_pcs = ['bad', 'aws']\n",
    "tesla_results = df.loc[df.device_name.isin(main_pcs)].copy()"
   ]
  },
  {
   "cell_type": "code",
   "execution_count": null,
   "metadata": {
    "pycharm": {
     "name": "#%%\n"
    }
   },
   "outputs": [],
   "source": [
    "print_opts(tesla_results)"
   ]
  },
  {
   "cell_type": "code",
   "execution_count": null,
   "metadata": {
    "pycharm": {
     "name": "#%%\n"
    }
   },
   "outputs": [],
   "source": [
    "tesla_results.head(10)"
   ]
  },
  {
   "cell_type": "markdown",
   "metadata": {
    "pycharm": {
     "name": "#%% md\n"
    },
    "scrolled": true
   },
   "source": [
    "# Compare all models on Volta V100"
   ]
  },
  {
   "cell_type": "code",
   "execution_count": null,
   "metadata": {
    "pycharm": {
     "name": "#%%\n"
    }
   },
   "outputs": [],
   "source": [
    "def compare_times(data, save_name=\"time_compare\", aspect=1.2):\n",
    "    g = sns.catplot(\n",
    "        x=\"n_sim\", y=\"sim_time\", hue=\"simulator\", \n",
    "        col=\"model_name\", kind=\"point\", data=data, \n",
    "        sharey=False, col_wrap=2, height=3, aspect=aspect,\n",
    "        col_order =model_names,\n",
    "        hue_order = ['stochkit', 'stochkit_64', 'bng', 'cuda', 'opencl'],\n",
    "        markers=['o', '*', '+', '<', '^']\n",
    "    )\n",
    "    g.set_titles(\"{col_name}\")\n",
    "    g.set_axis_labels(\"Number of simulations\", \"Simulation run time (s)\")\n",
    "    g.set(yscale=\"log\")    \n",
    "    sns.move_legend(\n",
    "    g, \"lower center\",\n",
    "    bbox_to_anchor=(.5, 1), ncol=3, title=None, frameon=False,\n",
    "    )\n",
    "    locs, labels = plt.xticks()\n",
    "    plt.setp(labels, rotation=45)\n",
    "    g.set_xticklabels(labels, rotation=45)\n",
    "    plt.savefig('{}.png'.format(save_name), dpi=300, bbox_inches='tight')\n",
    "    plt.savefig('{}.pdf'.format(save_name), dpi=300, bbox_inches='tight')\n",
    "    \n",
    "compare_times(tesla_results, 'all_models_timing_aspect_1.2', aspect=1.2)\n",
    "compare_times(tesla_results, 'all_models_timing_aspect_.8', aspect=.8)"
   ]
  },
  {
   "cell_type": "code",
   "execution_count": null,
   "metadata": {
    "pycharm": {
     "name": "#%%\n"
    }
   },
   "outputs": [],
   "source": [
    "def compare_times_2_models(data, save_name=\"time_compare\"):\n",
    "    # m_names = ['Michaelis-Menten', 'Schlögl','Kinase Cascade', 'EARM 1.0']\n",
    "    m_names = ['Michaelis-Menten', 'EARM 1.0']\n",
    "    d_subset = data.loc[data.model_name.isin(m_names)].copy()\n",
    "    \n",
    "    g = sns.catplot(\n",
    "        x=\"n_sim\", y=\"sim_time\", hue=\"simulator\", \n",
    "        col=\"model_name\", kind=\"point\", data=d_subset, \n",
    "        sharey=False, col_wrap=1, height=2, aspect=2, \n",
    "        col_order =m_names,\n",
    "        hue_order = ['stochkit', 'stochkit_64', 'bng', 'cuda', 'opencl'],\n",
    "        markers=['o', '*', '+', '<', '^']\n",
    "    )\n",
    "    g.set_titles(\"{col_name}\")\n",
    "    g.set_axis_labels(\"Number of simulations\", \"Simulation run time (s)\")\n",
    "    g.set(yscale=\"log\")    \n",
    "    sns.move_legend(\n",
    "    g, \"lower center\",\n",
    "    bbox_to_anchor=(.5, 1), ncol=3, title=None, frameon=False,\n",
    "    )\n",
    "    locs, labels = plt.xticks()\n",
    "    plt.setp(labels, rotation=45)\n",
    "    g.set_xticklabels(labels, rotation=45)\n",
    "    plt.savefig('{}.png'.format(save_name), dpi=300, bbox_inches='tight')\n",
    "    plt.savefig('{}.pdf'.format(save_name), dpi=300, bbox_inches='tight')\n",
    "    \n",
    "compare_times_2_models(tesla_results, '2_model')"
   ]
  },
  {
   "cell_type": "code",
   "execution_count": null,
   "metadata": {
    "pycharm": {
     "name": "#%%\n"
    }
   },
   "outputs": [],
   "source": [
    "def plot_ratio(data, save_name=\"bng_gpu_ratio\"):\n",
    "    \"\"\"\n",
    "    Plots the ratio of BNG run times to GPU_SSA run times\n",
    "    \"\"\"\n",
    "\n",
    "    d = pd.pivot_table(\n",
    "        data[['model_name', 'n_sim', 'simulator', 'sim_time']],\n",
    "        index=['model_name', 'n_sim'],\n",
    "        columns='simulator',\n",
    "        values='sim_time'\n",
    "    )\n",
    "    \n",
    "    def f2(x):\n",
    "        return '{0:.3f}'.format(x)\n",
    "    d.to_latex('sum_table_latex.tex', \n",
    "               formatters={'bng': f2, 'cuda':f2, 'opencl':f2, 'stochkit':f2, 'stochkit_64':f2},\n",
    "               bold_rows=True)\n",
    "    d['ratio_bng'] = d['bng'] / d['cuda']\n",
    "    d['ratio_stochkit'] = d['stochkit'] / d['cuda']\n",
    "    d['ratio_stochkit_64'] = d['stochkit_64'] / d['cuda']\n",
    "#     print(d[['ratio_bng', 'ratio_stochkit', 'ratio_stochkit_64']])\n",
    "    d.reset_index(inplace=True)\n",
    "    d.to_csv('all_times.csv')\n",
    "    \n",
    "    count = 1\n",
    "    fig = plt.figure(figsize=(6, 8))\n",
    "    for i in model_names:\n",
    "        \n",
    "        ax = plt.subplot(2,2, count)\n",
    "        plt.title(i)\n",
    "        df = d.loc[d.model_name==i][['n_sim', 'ratio_bng', 'ratio_stochkit', 'ratio_stochkit_64']]\n",
    "        l1,= plt.plot(df['n_sim'], df['ratio_bng'], 'x-r', label='ratio_bng')\n",
    "        l2,= plt.plot(df['n_sim'], df['ratio_stochkit'], 'o-k', label='ratio_stochkit')\n",
    "        l3,= plt.plot(df['n_sim'], df['ratio_stochkit_64'], '^-b', label='ratio_stochkit_64')\n",
    "        ax.set_xscale('log', base=2)    \n",
    "        ax.set_yscale('log', base=10) \n",
    "        plt.ylabel(\"Simulation time ratio\")\n",
    "        plt.xlabel(\"Number of simulations\")\n",
    "        if count in (1,2):\n",
    "            plt.xlabel('')\n",
    "            plt.xticks([])\n",
    "        if count in (2, 4):\n",
    "            plt.ylabel('')\n",
    "        count+=1\n",
    "    lgd = fig.legend(\n",
    "        [l1, l2, l3],\n",
    "        [\"bng/cuda\", \"stochkit/cuda\", \"stochkit_64/cuda\"],\n",
    "        fancybox=True, shadow=True, \n",
    "        bbox_to_anchor=(1.2, .48),\n",
    "    )\n",
    "    plt.subplots_adjust(left=0.07, right=0.93, wspace=0.25, hspace=0.15)\n",
    "    plt.suptitle('TeslaV1000 Speedup', size=16)\n",
    "    plt.savefig('{}.png'.format(save_name), dpi=300, bbox_inches='tight', bbox_extra_artists=(lgd,),)\n",
    "    plt.savefig('{}.pdf'.format(save_name), dpi=300, bbox_inches='tight', bbox_extra_artists=(lgd,),)\n",
    "plot_ratio(tesla_results)"
   ]
  },
  {
   "cell_type": "markdown",
   "metadata": {
    "pycharm": {
     "name": "#%% md\n"
    }
   },
   "source": [
    "# GPU scaling\n",
    "\n",
    "For these tests, I ran the simulations on a 4-GPU rig using the OpenCLSSASimulator. The PCs name was RAGE (thus the load keyword). "
   ]
  },
  {
   "cell_type": "code",
   "execution_count": null,
   "metadata": {
    "pycharm": {
     "name": "#%%\n"
    }
   },
   "outputs": [],
   "source": [
    "rage_df = load_data(rage=True)\n",
    "rage = rage_df.loc[rage_df.precision == 'fp64'].copy()\n",
    "rage = rage.loc[rage.simulator == 'opencl'].copy()\n",
    "rage = rage[rage.opencl_args!=''].copy()\n",
    "rage.head(5)\n",
    "rage['opencl_args'].unique()\n",
    "def count_gpus(x):\n",
    "    return len(x.split(','))\n",
    "\n",
    "rage['n_gpus'] = rage['opencl_args'].apply(count_gpus)\n",
    "rage.head(10)\n",
    "\n",
    "\n",
    "rage_large = rage.loc[rage.n_sim > 2**12].copy()\n",
    "g = sns.catplot(\n",
    "    x=\"n_sim\", y=\"sim_time\", hue=\"n_gpus\", \n",
    "    col=\"model_name\", kind=\"point\", data=rage_large, \n",
    "    sharey=False, col_wrap=2, height=4, \n",
    "    col_order=model_names,\n",
    "    hue_order = [1, 2, 3, 4],\n",
    "    markers=['o', '*', ',', '<']\n",
    ");\n",
    "g.set_titles(\"{col_name}\")\n",
    "g.set_axis_labels(\"Number of simulations\", \"Simulation time(s)\")\n",
    "g.set(yscale=\"log\")    \n",
    "locs, labels = plt.xticks()\n",
    "plt.setp(labels, rotation=45)\n",
    "g.set_xticklabels(labels, rotation=45);"
   ]
  },
  {
   "cell_type": "code",
   "execution_count": null,
   "metadata": {
    "pycharm": {
     "name": "#%%\n"
    }
   },
   "outputs": [],
   "source": [
    "fig = plt.figure(figsize=(12, 6))\n",
    "# ax = sns.barplot(x=\"model_name\", y=\"sim_time\", hue=\"n_gpus\", data=rage_large,\n",
    "#                 estimator=None)\n",
    "fig.add_subplot(121)\n",
    "rage_large = rage.loc[rage.n_sim > 2**15].copy()\n",
    "\n",
    "earm_only = rage_large.loc[rage_large.model_name == 'EARM 1.0'].copy()\n",
    "g = sns.barplot(\n",
    "    data=rage_large, \n",
    "    x=\"sim_time\", y=\"model_name\", hue=\"n_gpus\",\n",
    "    ci=\"sd\", palette=\"dark\", alpha=.6, orient='horizonal'\n",
    ")\n",
    "g.set(xscale=\"log\") \n",
    "plt.title(\"EARM 1.0 GPU scaling using OpenCL\")\n",
    "\n",
    "fig.add_subplot(122)\n",
    "pivot_earm_only = pd.pivot_table(earm_only, index='n_sim', values='sim_time', columns=['n_gpus'])\n",
    "print(pivot_earm_only.head(5))\n",
    "pivot_earm_only['ratio'] = pivot_earm_only[1]/pivot_earm_only[4]\n",
    "# print(ratio.head(5))\n",
    "pivot_earm_only.reset_index(inplace=True)\n",
    "sns.barplot(data=pivot_earm_only,x='n_sim', y='ratio')\n",
    "plt.ylabel(\"Ratio\")\n",
    "plt.title(\"Timing speedup using 4 GPUs compared to 1\")\n",
    "save_name = 'earm_gpu_scaling'\n",
    "plt.savefig('{}.png'.format(save_name), dpi=300, bbox_inches='tight', transparent=False)\n",
    "plt.savefig('{}.pdf'.format(save_name), dpi=300, bbox_inches='tight')\n",
    "    \n",
    "    "
   ]
  },
  {
   "cell_type": "markdown",
   "metadata": {
    "pycharm": {
     "name": "#%%\n"
    }
   },
   "source": [
    "# Comparing fp64 vs fp32\n",
    "Compare effect of precision"
   ]
  },
  {
   "cell_type": "code",
   "execution_count": null,
   "metadata": {
    "pycharm": {
     "name": "#%%\n"
    }
   },
   "outputs": [],
   "source": [
    "# plot fp64 vs fp32\n",
    "\n",
    "rage = rage_df.loc[rage_df.device_name=='rage'].copy()\n",
    "rage = rage.loc[rage.simulator.isin(['cuda', 'opencl'])].copy()\n",
    "rage = rage[rage.opencl_args.isin(['','0:0','0:3'])].copy()\n",
    "print(rage.head(5))\n",
    "\n",
    "g = sns.catplot(\n",
    "        x=\"n_sim\", y=\"sim_time\", hue=\"precision\", \n",
    "        col=\"model_name\", row='simulator', kind=\"point\", data=rage, \n",
    "        sharey=False, \n",
    "#     col_wrap=2, \n",
    "    height=4, \n",
    "        col_order =model_names,\n",
    "#         hue_order = ['fp32', 'fp64', ],\n",
    "        markers=['o', '*',]\n",
    "    )    \n",
    "\n",
    "g.set_titles(\"{col_name}\")\n",
    "g.set_axis_labels(\"Number of simulations\", \"Simulation time(s)\")\n",
    "g.set(yscale=\"log\")    \n",
    "locs, labels = plt.xticks()\n",
    "plt.setp(labels, rotation=45)\n",
    "g.set_xticklabels(labels, rotation=45)"
   ]
  },
  {
   "cell_type": "markdown",
   "metadata": {
    "pycharm": {
     "name": "#%% md\n"
    }
   },
   "source": [
    "# EARM only"
   ]
  },
  {
   "cell_type": "code",
   "execution_count": null,
   "metadata": {
    "pycharm": {
     "name": "#%%\n"
    }
   },
   "outputs": [],
   "source": [
    "def plot_earm(data, save_name=\"time_compare\"):\n",
    "    earm_only = data.loc[data.model_name == 'EARM 1.0'].copy()\n",
    "    earm_only.to_csv('earm_timing.csv')\n",
    "    \n",
    "    \n",
    "    display(earm_only.head(10))\n",
    "    fig = plt.figure(figsize=(8, 4))\n",
    "\n",
    "    ax1 = fig.add_subplot(121)\n",
    "    g = sns.pointplot(\n",
    "        x=\"n_sim\", y=\"sim_time\", hue=\"simulator\", \n",
    "#         col=\"model_name\", \n",
    "#         kind=\"point\", \n",
    "        data=earm_only, \n",
    "#         sharey=False, \n",
    "        #col_wrap=1, height=1, \n",
    "#         col_order = [ 'EARM 1.0'],\n",
    "        hue_order = ['stochkit', 'stochkit_64', 'bng', 'cuda', 'opencl'],\n",
    "        markers=['o', '*', '+', '<', '^'],\n",
    "        ax=ax1\n",
    "    )\n",
    "    plt.title(\"Simulation times\")\n",
    "    plt.xlabel(\"Number of simulations\")\n",
    "    plt.ylabel(\"Simulation time(s)\")\n",
    "    g.set(yscale=\"log\")    \n",
    "    locs, labels = plt.xticks()\n",
    "    plt.setp(labels, rotation=45)\n",
    "    g.set_xticklabels(labels, rotation=45)\n",
    "\n",
    "    d = pd.pivot_table(\n",
    "        earm_only[['model_name', 'n_sim', 'simulator', 'sim_time']],\n",
    "        index=['model_name', 'n_sim'],\n",
    "        columns='simulator',\n",
    "        values='sim_time'\n",
    "    )\n",
    "    d['ratio_bng'] = d['bng'] / d['cuda']\n",
    "    d['ratio_stochkit'] = d['stochkit'] / d['cuda']\n",
    "    d['ratio_stochkit_64'] = d['stochkit_64'] / d['cuda']\n",
    "    d.reset_index(inplace=True)\n",
    "    \n",
    "    ax2 = plt.subplot(1,2, 2)\n",
    "    \n",
    "    df = d[['n_sim', 'ratio_bng', 'ratio_stochkit', 'ratio_stochkit_64']]\n",
    "    \n",
    "    df = pd.melt(df,\n",
    "                  id_vars='n_sim', \n",
    "                  value_vars=['ratio_bng', 'ratio_stochkit', 'ratio_stochkit_64'],\n",
    "                  value_name='ratio', \n",
    "                 )\n",
    "    df = df.loc[~df.ratio.isnull()]\n",
    "    print(df.head(10))\n",
    "    g = sns.pointplot(\n",
    "        x=\"n_sim\", y=\"ratio\", hue=\"simulator\", \n",
    "#         kind=\"point\",\n",
    "        data=df, \n",
    "#         sharey=False, #col_wrap=1, height=1, \n",
    "        palette=\"Set2\",\n",
    "        markers=['x', 'o', '^'],\n",
    "        ax=ax2\n",
    "    )\n",
    "    g.set(yscale=\"log\")    \n",
    "    locs, labels = plt.xticks()\n",
    "    plt.setp(labels, rotation=45)\n",
    "    g.set_xticklabels(labels, rotation=45)\n",
    "    plt.title(\"Simulator timing ratios\")\n",
    "    plt.xlabel(\"Number of simulations\")\n",
    "    plt.ylabel(\"Ratio of simulation times\")\n",
    "    plt.subplots_adjust(left=0.07, right=0.93, wspace=0.25, hspace=0.15)\n",
    "    plt.suptitle('PySB SSA simulator timings for EARM 1.0', size=16)\n",
    "    plt.savefig('{}.png'.format(save_name), dpi=300, bbox_inches='tight', )\n",
    "    plt.savefig('{}.pdf'.format(save_name), dpi=300, bbox_inches='tight')\n",
    "plot_earm(tesla_results, 'earm_only_timing')"
   ]
  },
  {
   "cell_type": "code",
   "execution_count": null,
   "metadata": {
    "pycharm": {
     "name": "#%%\n"
    },
    "scrolled": false
   },
   "outputs": [],
   "source": [
    "def plot_ratio_cuda_opencl(data, save_name=\"opencl_cl_ratio\"):\n",
    "    \"\"\"\n",
    "    Plots the ratio of BNG run times to GPU_SSA run times\n",
    "    \"\"\"\n",
    "    df_gpu = data.loc[~data.gpu_name.isin(['GTX1060'])].copy()\n",
    "    df_gpu = df_gpu.loc[~df_gpu.device_name.isin(['rage'])].copy()\n",
    "#     df_gpu['n_gpus'] = 1\n",
    "#     def count_gpus(x):\n",
    "#         return len(x.split(','))\n",
    "#     df_gpu['n_gpus'] = df_gpu['opencl_args'].apply(count_gpus)\n",
    "#     print(df_gpu.head(10))\n",
    "#     df_gpu = df_gpu.loc[~df_gpu.n_gpus==1].copy()\n",
    "    \n",
    "    d = pd.pivot_table(\n",
    "        df_gpu[['model_name', 'n_sim', 'simulator', 'sim_time', 'gpu_name']],\n",
    "        index=['model_name',  'gpu_name', 'n_sim',],\n",
    "        columns='simulator',\n",
    "        values='sim_time'\n",
    "    )\n",
    "    \n",
    "    \n",
    "    def f2(x):\n",
    "        return '{0:.3f}'.format(x)\n",
    "    d.to_latex('sum_table_latex.tex', \n",
    "               formatters={'bng': f2, 'cuda':f2, 'opencl':f2, 'stochkit':f2, 'stochkit_64':f2},\n",
    "               bold_rows=True)\n",
    "    d['ratio'] = d['opencl'] / d['cuda']\n",
    "#     print(d[['ratio_bng', 'ratio_stochkit', 'ratio_stochkit_64']])\n",
    "    d.reset_index(inplace=True)\n",
    "#     d.to_csv('all_times.csv')\n",
    "    \n",
    "    count = 1\n",
    "    fig = plt.figure(figsize=(8, 9))\n",
    "    for i in model_names:\n",
    "        \n",
    "        ax = plt.subplot(2,2, count)\n",
    "        plt.title(i)\n",
    "        df = d.loc[d.model_name==i][['n_sim', 'ratio', 'gpu_name']]\n",
    "        print(df.gpu_name.unique())\n",
    "        gpus = [ 'GTX980Ti', 'GTX1080', 'RTX2080', 'RTX3090', 'TeslaK20c', 'TeslaV100']\n",
    "        legends = []\n",
    "        labels = []\n",
    "        for i in gpus:\n",
    "            dd = df.loc[df.gpu_name==i].copy()\n",
    "            dd.sort_values('n_sim', inplace=True)\n",
    "            l1,= plt.plot(dd['n_sim'], dd['ratio'], 'x-', label=i)\n",
    "            \n",
    "            legends.append(l1)\n",
    "            labels.append(i)\n",
    "        ax.set_xscale('log', base=2)    \n",
    "#         ax.set_yscale('log', base=10) \n",
    "        plt.ylabel(\"Simulation time ratio\")\n",
    "        plt.xlabel(\"Number of simulations\")\n",
    "        \n",
    "        if count in (1,2):\n",
    "            plt.xlabel('')\n",
    "            plt.xticks([])\n",
    "        if count in (2, 4):\n",
    "            plt.ylabel('')\n",
    "        count+=1\n",
    "        lgd = fig.legend(\n",
    "            legends, labels,\n",
    "            fancybox=True, shadow=True, \n",
    "            bbox_to_anchor=(1.2, .48),\n",
    "        )\n",
    "    plt.subplots_adjust(left=0.07, right=0.93, wspace=0.25, hspace=0.15)\n",
    "    plt.suptitle('OpenCL vs CUDA on Nvidia GPUs', size=16)\n",
    "    plt.savefig('{}.png'.format(save_name), dpi=300, bbox_inches='tight')# bbox_extra_artists=(lgd,),)\n",
    "    plt.savefig('{}.pdf'.format(save_name), dpi=300, bbox_inches='tight')#bbox_extra_artists=(lgd,),)\n",
    "plot_ratio_cuda_opencl(gpu_only)"
   ]
  },
  {
   "cell_type": "code",
   "execution_count": null,
   "metadata": {
    "pycharm": {
     "name": "#%%\n"
    }
   },
   "outputs": [],
   "source": [
    "def plot_gpu_over_gen(data, save_name=\"scatter_gpus_over_gen\"):\n",
    "    \"\"\"\n",
    "    Plots the ratio of BNG run times to GPU_SSA run times\n",
    "    \"\"\"\n",
    "    df_gpu = data.loc[~data.gpu_name.isin(['GTX1060'])].copy()\n",
    "    df_gpu = df_gpu.loc[~df_gpu.device_name.isin(['rage'])].copy()\n",
    "\n",
    "    d = pd.pivot_table(\n",
    "        df_gpu[['model_name', 'n_sim', 'simulator', 'sim_time', 'gpu_name']],\n",
    "        index=['model_name',  'gpu_name', 'n_sim',],\n",
    "        columns='simulator',\n",
    "        values='sim_time'\n",
    "    )\n",
    "    \n",
    "    d['ratio'] = d['opencl'] / d['cuda']\n",
    "    d.reset_index(inplace=True)\n",
    "    \n",
    "    count = 1\n",
    "    fig = plt.figure(figsize=(8, 9))\n",
    "    for i in model_names:\n",
    "        \n",
    "        ax = plt.subplot(2,2, count)\n",
    "        plt.title(i)\n",
    "        df = d.loc[d.model_name==i][['n_sim', 'cuda', 'gpu_name']]\n",
    "        print(df.gpu_name.unique())\n",
    "        gpus = [ 'GTX980Ti', 'GTX1080', 'RTX2080', \n",
    "                'RTX3090', 'TeslaV100']\n",
    "        legends = []\n",
    "        labels = []\n",
    "        for i in gpus:\n",
    "            dd = df.loc[df.gpu_name==i].copy()\n",
    "            dd.sort_values('n_sim', inplace=True)\n",
    "            l1,= plt.plot(dd['n_sim'], dd['cuda'], 'x-', label=i)\n",
    "            \n",
    "            legends.append(l1)\n",
    "            labels.append(i)\n",
    "        ax.set_xscale('log', base=2)    \n",
    "        ax.set_yscale('log', base=10) \n",
    "        plt.ylabel(\"Simulation time ratio\")\n",
    "        plt.xlabel(\"Number of simulations\")\n",
    "        \n",
    "        if count in (1,2):\n",
    "            plt.xlabel('')\n",
    "            plt.xticks([])\n",
    "        if count in (2, 4):\n",
    "            plt.ylabel('')\n",
    "        count+=1\n",
    "        lgd = fig.legend(\n",
    "            legends, labels,\n",
    "            fancybox=True, shadow=True, \n",
    "            bbox_to_anchor=(1.2, .48),\n",
    "        )\n",
    "    plt.subplots_adjust(left=0.07, right=0.93, wspace=0.25, hspace=0.15)\n",
    "    plt.suptitle('OpenCL vs CUDA on Nvidia GPUs', size=16)\n",
    "    plt.savefig('{}.png'.format(save_name), dpi=300, bbox_inches='tight')# bbox_extra_artists=(lgd,),)\n",
    "    plt.savefig('{}.pdf'.format(save_name), dpi=300, bbox_inches='tight')#bbox_extra_artists=(lgd,),)\n",
    "plot_gpu_over_gen(gpu_only)"
   ]
  },
  {
   "cell_type": "code",
   "execution_count": null,
   "metadata": {
    "pycharm": {
     "name": "#%%\n"
    }
   },
   "outputs": [],
   "source": [
    "def compare_amd_nvidia():\n",
    "    \n",
    "    pal = sns.light_palette(\"purple\", as_cmap=True)\n",
    "    local_df = load_data()\n",
    "    print(local_df.sim_card.unique())\n",
    "    print(local_df.simulator.unique())\n",
    "    gpus = [\n",
    "        'cuda', \n",
    "        'opencl', \n",
    "        'cl_amd_cpu',\n",
    "        'cl_amd_gpu'\n",
    "        #'cl_intel_gpu',\n",
    "        'cl_amd', 'cl_nvidia'\n",
    "    ]\n",
    "    \n",
    "    df_gpu =local_df.loc[local_df.simulator.isin(gpus)].copy()\n",
    "    \n",
    "    models = [\n",
    "        'Michaelis Menten', \n",
    "        'Schlögl',\n",
    "        'JNK Activation Cascade', \n",
    "        'EARM 1.0'\n",
    "    ]\n",
    "    df_gpu = df_gpu.loc[df_gpu.model_name.isin(models)].copy()\n",
    "\n",
    "    fig = plt.figure(figsize=(10, 12))\n",
    "\n",
    "    for n, m in enumerate(models):\n",
    "        subset = df_gpu.loc[df_gpu['model_name'] == m].copy()\n",
    "\n",
    "        d = pd.pivot_table(\n",
    "            subset, index='sim_card', columns='n_sim', values='sim_time',\n",
    "            fill_value=np.nan,\n",
    "        )\n",
    "#         print(d.index.values)\n",
    "        keep = [\n",
    "#             'Ryzen_3900x_cl_amd_cpu',\n",
    "            \n",
    "            'GTX980Ti_opencl', \n",
    "            'GTX980Ti_cuda',\n",
    "            'GTX1080_opencl', \n",
    "            'GTX1080_cuda', \n",
    "            'RTX2080_opencl',\n",
    "            'RTX2080_cuda',\n",
    "            'RTX3090_opencl',\n",
    "            'RTX3090_cuda',\n",
    "#             'TeslaK20c_opencl', \n",
    "#             'TeslaK20c_cuda',\n",
    "            'TeslaV100_opencl', \n",
    "            'TeslaV100_cuda',\n",
    "            'Radeon Vii_opencl',\n",
    "        ]\n",
    "    \n",
    "        d = d.reindex(keep)\n",
    "        ax = fig.add_subplot(4, 1, n + 1)\n",
    "        ax.set_title(m)\n",
    "        if m == 'EARM 1.0':\n",
    "            fmt = '.0f'\n",
    "        elif m == 'JNK Activation Cascade':\n",
    "            fmt = '0.1f'\n",
    "        else:\n",
    "            fmt = '.3f'\n",
    "        sns.heatmap(data=d, cmap=pal, linewidths=0.01, vmin=0, annot=True,\n",
    "                    fmt=fmt, ax=ax, yticklabels=True)\n",
    "        plt.ylabel('')\n",
    "        plt.xlabel(\"Number of simulations\")\n",
    "    plt.tight_layout()\n",
    "    plt.subplots_adjust(hspace=.5)\n",
    "    plt.savefig(\"compare_amd_nvidia_opencl.png\", bbox_inches='tight', dpi=300)\n",
    "    plt.savefig(\"compare_amd_nvidia_opencl.pdf\", bbox_inches='tight', dpi=300)\n",
    "    plt.show()\n",
    "\n",
    "\n",
    "compare_amd_nvidia()"
   ]
  },
  {
   "cell_type": "code",
   "execution_count": null,
   "metadata": {
    "pycharm": {
     "name": "#%%\n"
    }
   },
   "outputs": [],
   "source": [
    "def compare_cuda_consumer_gpus_all_models():\n",
    "    pal = sns.light_palette(\"purple\", as_cmap=True)\n",
    "    local_df = load_data()\n",
    "    print(local_df.simulator.unique())\n",
    "    gpus = ['cuda']\n",
    "    \n",
    "    df_gpu =local_df.loc[local_df.simulator.isin(gpus)].copy()\n",
    "\n",
    "    models = [\n",
    "        'Michaelis Menten', \n",
    "        'Schlögl',\n",
    "        'JNK Activation Cascade', \n",
    "        'EARM 1.0'\n",
    "    ]\n",
    "    df_gpu = df_gpu.loc[df_gpu.model_name.isin(models)].copy()\n",
    "    \n",
    "    fig = plt.figure(figsize=(8, 10))\n",
    "\n",
    "    for n, m in enumerate(models):\n",
    "        subset = df_gpu.loc[df_gpu['model_name'] == m].copy()\n",
    "\n",
    "        d = pd.pivot_table(\n",
    "            subset, index='sim_card', columns='n_sim', values='sim_time',\n",
    "            fill_value=np.nan,\n",
    "        )\n",
    "        keep = [\n",
    "            'GTX980Ti_cuda',\n",
    "            'GTX1080_cuda', \n",
    "            'RTX2080_cuda' ,\n",
    "            'RTX3090_cuda' ,\n",
    "        ]\n",
    "        d = d.reindex(keep)\n",
    "        ax = fig.add_subplot(4, 1, n + 1)\n",
    "        ax.set_title(m)\n",
    "        if m == 'EARM 1.0':\n",
    "            fmt = '.0f'\n",
    "        elif m == 'JNK Activation Cascade':\n",
    "            fmt = '0.1f'\n",
    "        else:\n",
    "            fmt = '.3f'\n",
    "        sns.heatmap(data=d, cmap=pal, linewidths=0.01, vmin=0, annot=True,\n",
    "                    fmt=fmt, ax=ax)\n",
    "\n",
    "    plt.tight_layout(h_pad=0.5)\n",
    "    plt.subplots_adjust(hspace=.4)\n",
    "    plt.savefig(\"compare_consumer_nvidia_gpus_all_models.png\", bbox_inches='tight', dpi=300)\n",
    "    plt.savefig(\"compare_consumer_nvidia_gpus_all_models.pdf\", bbox_inches='tight', dpi=300)\n",
    "    plt.show()\n",
    "\n",
    "\n",
    "compare_cuda_consumer_gpus_all_models()"
   ]
  },
  {
   "cell_type": "code",
   "execution_count": null,
   "metadata": {
    "pycharm": {
     "name": "#%%\n"
    }
   },
   "outputs": [],
   "source": [
    "def compare_cpus_earm():\n",
    "    pal = sns.light_palette(\"purple\", as_cmap=True)\n",
    "    local_df = load_data()\n",
    "    \n",
    "    gpus = [\n",
    "        'cuda', \n",
    "        'opencl', \n",
    "        'cl_amd_cpu',\n",
    "        'bng', \n",
    "        'stochkit', \n",
    "        'stochkit_64',\n",
    "        \n",
    "    ]\n",
    "    df_gpu =local_df.loc[local_df.simulator.isin(gpus)].copy()\n",
    "    \n",
    "\n",
    "    models = [\n",
    "        'EARM 1.0'\n",
    "    ]\n",
    "    df_gpu = df_gpu.loc[df_gpu.model_name.isin(models)].copy()\n",
    "    \n",
    "    df_gpu.loc[df_gpu.sim_card=='TeslaV100_stochkit', 'sim_card']= 'StochKit'\n",
    "    df_gpu.loc[df_gpu.sim_card=='TeslaV100_stochkit_64', 'sim_card']= 'StochKit_64'\n",
    "    df_gpu.loc[df_gpu.sim_card=='TeslaV100_bng', 'sim_card']= 'BNG'\n",
    "    \n",
    "    fig = plt.figure(figsize=(9, 2))\n",
    "\n",
    "\n",
    "    subset = df_gpu.loc[df_gpu['model_name'] == 'EARM 1.0'].copy()\n",
    "\n",
    "    d = pd.pivot_table(\n",
    "        subset, index='sim_card', columns='n_sim', values='sim_time',\n",
    "        fill_value=np.nan,\n",
    "    )\n",
    "    keep = [\n",
    "        'BNG', 'StochKit', 'StochKit_64',\n",
    "        'Ryzen_3900x_cl_amd_cpu',\n",
    "    ]\n",
    "    d = d.reindex(keep)\n",
    "    ax = fig.add_subplot(1, 1, 1)\n",
    "    ax.set_title('OpenCL utilized all CPU')\n",
    "\n",
    "    fmt = '.0f'\n",
    "    \n",
    "    sns.heatmap(data=d, cmap=pal, linewidths=0.01, vmin=0, annot=True,\n",
    "                fmt=fmt, ax=ax)\n",
    "    plt.yticks(rotation=0) \n",
    "    plt.tight_layout(h_pad=0.5)\n",
    "    plt.subplots_adjust(hspace=.4)\n",
    "    plt.savefig(\"compare_consumer_cpus.png\", bbox_inches='tight', dpi=300)\n",
    "    plt.savefig(\"compare_consumer_cpus.pdf\", bbox_inches='tight', dpi=300)\n",
    "    plt.show()\n",
    "\n",
    "\n",
    "compare_cpus_earm()"
   ]
  },
  {
   "cell_type": "code",
   "execution_count": null,
   "metadata": {
    "pycharm": {
     "name": "#%%\n"
    }
   },
   "outputs": [],
   "source": [
    "# consumer NVIDIA GPUs\n",
    "def compare_cuda_gpus_earm():\n",
    "    pal = sns.light_palette(\"purple\", as_cmap=True)\n",
    "    local_df = df.copy()\n",
    "    print(df.simulator.unique())\n",
    "    gpus = ['cuda']    \n",
    "    df_gpu = local_df.loc[local_df.simulator.isin(gpus)].copy()\n",
    "\n",
    "\n",
    "    models = [\n",
    "#         'Michaelis Menten', \n",
    "#         'Schlögl',\n",
    "#         'JNK Activation Cascade', \n",
    "        'EARM 1.0'\n",
    "    ]\n",
    "    df_gpu = df_gpu.loc[df_gpu.model_name.isin(models)].copy()\n",
    "    df_gpu = df_gpu.loc[~df_gpu.gpu_name.isin(['GTX1060'])]\n",
    "\n",
    "    fig = plt.figure(figsize=(8, 2))\n",
    "\n",
    "\n",
    "    subset = df_gpu.loc[df_gpu['model_name'] == 'EARM 1.0'].copy()\n",
    "\n",
    "    d = pd.pivot_table(\n",
    "        subset, index='sim_card', columns='n_sim', values='sim_time',\n",
    "        fill_value=np.nan,\n",
    "    )\n",
    "    print(d.index.values)\n",
    "    keep = [\n",
    "        'GTX980Ti_cuda',\n",
    "        'GTX1080_cuda', \n",
    "        'RTX2080_cuda' ,\n",
    "        'RTX3090_cuda' ,\n",
    "#             'TeslaK20c_opencl', \n",
    "#             'TeslaK20c_cuda',\n",
    "#             'TeslaV100_opencl', \n",
    "        'TeslaV100_cuda',\n",
    "#             'Radeon Vii_opencl',\n",
    "    ]\n",
    "    d = d.reindex(keep)\n",
    "    ax = fig.add_subplot(1, 1, 1)\n",
    "    ax.set_title('Performance over generations for EARM')\n",
    "\n",
    "    fmt = '.0f'\n",
    "    \n",
    "    sns.heatmap(data=d, cmap=pal, linewidths=0.01, vmin=0, annot=True,\n",
    "                fmt=fmt, ax=ax)\n",
    "\n",
    "    plt.tight_layout(h_pad=0.5)\n",
    "    plt.subplots_adjust(hspace=.4)\n",
    "    plt.savefig(\"compare_consumer_nvidia_gpus.png\", bbox_inches='tight', dpi=300)\n",
    "    plt.savefig(\"compare_consumer_nvidia_gpus.pdf\", bbox_inches='tight', dpi=300)\n",
    "    plt.show()\n",
    "\n",
    "\n",
    "compare_cuda_gpus_earm()"
   ]
  },
  {
   "cell_type": "markdown",
   "metadata": {
    "pycharm": {
     "name": "#%%\n"
    },
    "scrolled": false
   },
   "source": [
    "## Creates plot of all timings for CUDA and CPUs"
   ]
  },
  {
   "cell_type": "code",
   "execution_count": null,
   "metadata": {
    "pycharm": {
     "name": "#%%\n"
    },
    "scrolled": false
   },
   "outputs": [],
   "source": [
    "def summary_of_all():\n",
    "    pal = sns.light_palette(\"purple\", as_cmap=True)\n",
    "    local_df = df.copy()\n",
    "    gpus = [\n",
    "        'cuda', \n",
    "        'opencl', \n",
    "        'cl_amd_cpu',\n",
    "        'bng', \n",
    "        'stochkit', \n",
    "        'stochkit_64',\n",
    "        \n",
    "    ]\n",
    "    \n",
    "    df_gpu = local_df.loc[local_df.simulator.isin(gpus)].copy()\n",
    "    df_gpu.loc[df_gpu.sim_card=='TeslaV100_stochkit', 'sim_card']= 'StochKit'\n",
    "    df_gpu.loc[df_gpu.sim_card=='TeslaV100_stochkit_64', 'sim_card']= 'StochKit_64'\n",
    "    df_gpu.loc[df_gpu.sim_card=='TeslaV100_bng', 'sim_card']= 'BNG'\n",
    "    models = [\n",
    "        'Michaelis Menten', \n",
    "        'Schlögl',\n",
    "        'JNK Activation Cascade', \n",
    "        'EARM 1.0'\n",
    "    ]\n",
    "    df_gpu = df_gpu.loc[df_gpu.model_name.isin(models)].copy()\n",
    "    \n",
    "    fig = plt.figure(figsize=(12, 18))\n",
    "\n",
    "    for n, m in enumerate(models):\n",
    "        subset = df_gpu.loc[df_gpu['model_name'] == m].copy()\n",
    "    \n",
    "\n",
    "        d = pd.pivot_table(\n",
    "            subset, index='sim_card', columns='n_sim', values='sim_time',\n",
    "            fill_value=np.nan,\n",
    "        )\n",
    "        keep = [\n",
    "            'BNG', 'StochKit', 'StochKit_64',\n",
    "            'Ryzen_3900x_cl_amd_cpu',\n",
    "            'GTX980Ti_cuda',\n",
    "            'GTX1080_cuda', \n",
    "            'RTX2080_opencl' ,\n",
    "            'RTX2080_cuda' ,\n",
    "            'RTX3090_cuda',\n",
    "            'RTX3090_opencl',\n",
    "            'Radeon Vii_opencl',\n",
    "            'TeslaV100_cuda',\n",
    "            'TeslaV100_opencl'\n",
    "        ]\n",
    "        d = d.reindex(keep)\n",
    "        ax = fig.add_subplot(5, 1, n + 1)\n",
    "        ax.set_title(m)\n",
    "        if m == 'EARM 1.0':\n",
    "            fmt = '.0f'\n",
    "        elif m == 'JNK Activation Cascade':\n",
    "            fmt = '0.1f'\n",
    "        else:\n",
    "            fmt = '.3f'\n",
    "        sns.heatmap(data=d, cmap=pal, linewidths=0.01, vmin=0, annot=True,\n",
    "                    fmt=fmt, ax=ax)\n",
    "\n",
    "    plt.tight_layout()\n",
    "    plt.savefig(\"compare_gpus.png\", bbox_inches='tight', dpi=300)\n",
    "    plt.show()\n",
    "\n",
    "\n",
    "summary_of_all()"
   ]
  },
  {
   "cell_type": "code",
   "execution_count": null,
   "metadata": {},
   "outputs": [],
   "source": []
  }
 ],
 "metadata": {
  "kernelspec": {
   "display_name": "Python 3 (ipykernel)",
   "language": "python",
   "name": "python3"
  },
  "language_info": {
   "codemirror_mode": {
    "name": "ipython",
    "version": 3
   },
   "file_extension": ".py",
   "mimetype": "text/x-python",
   "name": "python",
   "nbconvert_exporter": "python",
   "pygments_lexer": "ipython3",
   "version": "3.8.12"
  }
 },
 "nbformat": 4,
 "nbformat_minor": 1
}
