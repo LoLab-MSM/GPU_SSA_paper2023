{
 "cells": [
  {
   "cell_type": "code",
   "execution_count": null,
   "metadata": {
    "scrolled": false,
    "pycharm": {
     "name": "#%%\n"
    }
   },
   "outputs": [],
   "source": [
    "import matplotlib.pyplot as plt\n",
    "import numpy as np\n",
    "from pysb.simulator import OpenCLSSASimulator, ScipyOdeSimulator\n",
    "from pysb.importers import sbml\n",
    "\n",
    "\n",
    "def run_sbml(model_num, tspan, n_sim=100):\n",
    "    model = sbml.model_from_biomodels(model_num, verbose=2)\n",
    "    \n",
    "    # create simulator and run simulations\n",
    "    traj = OpenCLSSASimulator(model, platform='AMD', device='cpu',\n",
    "                           precision=np.float64,\n",
    "                           verbose=True).run(tspan, number_sim=n_sim)\n",
    "    # adding ODE solution to plot\n",
    "    y = ScipyOdeSimulator(model, tspan=tspan, compiler='cython').run()\n",
    "    for i in model.observables:\n",
    "        x = traj.dataframe[i.name].unstack(0).values\n",
    "        plt.figure()\n",
    "        plt.title(i.name)\n",
    "        plt.plot(tspan, x, '0.5', lw=2, alpha=0.25)  # individual trajectories\n",
    "        plt.plot(tspan, x.mean(1), 'k-*', lw=3, label=\"Mean\")\n",
    "        plt.plot(tspan, x.min(1), 'b--', lw=3, label=\"Minimum\")\n",
    "        plt.plot(tspan, x.max(1), 'r--', lw=3, label=\"Maximum\")\n",
    "        plt.plot(tspan, y.dataframe[i.name], 'g--', lw=3, label=\"ODE\")\n",
    "        plt.xlabel('Time')"
   ]
  },
  {
   "cell_type": "markdown",
   "source": [],
   "metadata": {
    "collapsed": false,
    "pycharm": {
     "name": "#%% md\n"
    }
   }
  },
  {
   "cell_type": "code",
   "execution_count": null,
   "metadata": {
    "pycharm": {
     "name": "#%%\n"
    }
   },
   "outputs": [],
   "source": [
    "# BIOMD0000000008 works\n",
    "run_sbml('BIOMD0000000008', tspan=np.linspace(0, 100, 101))"
   ]
  },
  {
   "cell_type": "code",
   "execution_count": null,
   "metadata": {
    "pycharm": {
     "name": "#%%\n"
    }
   },
   "outputs": [],
   "source": [
    "run_sbml('BIOMD000000005', tspan=np.linspace(0, 100, 101))"
   ]
  },
  {
   "cell_type": "code",
   "execution_count": null,
   "metadata": {
    "pycharm": {
     "name": "#%%\n"
    }
   },
   "outputs": [],
   "source": [
    "# ode model, units 1e-7, times out\n",
    "# run_sbml('BIOMD0000000193', tspan=np.linspace(0, 100, 101))"
   ]
  },
  {
   "cell_type": "code",
   "execution_count": null,
   "metadata": {
    "pycharm": {
     "name": "#%%\n"
    }
   },
   "outputs": [],
   "source": [
    "run_sbml('BIOMD0000000407', tspan=np.linspace(0, 100, 101))\n"
   ]
  }
 ],
 "metadata": {
  "kernelspec": {
   "display_name": "Python 3",
   "language": "python",
   "name": "python3"
  },
  "language_info": {
   "codemirror_mode": {
    "name": "ipython",
    "version": 3
   },
   "file_extension": ".py",
   "mimetype": "text/x-python",
   "name": "python",
   "nbconvert_exporter": "python",
   "pygments_lexer": "ipython3",
   "version": "3.7.6"
  }
 },
 "nbformat": 4,
 "nbformat_minor": 2
}